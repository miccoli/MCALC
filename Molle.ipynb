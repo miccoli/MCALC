{
 "cells": [
  {
   "cell_type": "markdown",
   "id": "8973d2ab-0c6a-4217-9824-3e36ec6b90d6",
   "metadata": {},
   "source": [
    "# Es. 1"
   ]
  },
  {
   "cell_type": "code",
   "execution_count": 16,
   "id": "8599c5b6-c864-4b5e-b4f9-52c104fdfa82",
   "metadata": {},
   "outputs": [],
   "source": [
    "w = 7\n",
    "eta = 1.5\n",
    "rp02 = 1250  # (MPa)\n",
    "tlim = rp02 / 3 ** 0.5  # (MPa)\n",
    "F = 20e3  # (N)\n",
    "n = 5\n",
    "G = 79000"
   ]
  },
  {
   "cell_type": "code",
   "execution_count": null,
   "id": "52e9a996-c1b1-40ed-b6ee-460e5342a84a",
   "metadata": {},
   "outputs": [],
   "source": []
  },
  {
   "cell_type": "code",
   "execution_count": 48,
   "id": "401add92-f70a-48ef-80d8-70117e7142fe",
   "metadata": {},
   "outputs": [],
   "source": [
    "from math import pi, atan, degrees"
   ]
  },
  {
   "cell_type": "code",
   "execution_count": 10,
   "id": "9c92ad36-5053-4861-ba6d-e5d214a76e2a",
   "metadata": {},
   "outputs": [
    {
     "data": {
      "text/plain": [
       "27.221058676085477"
      ]
     },
     "execution_count": 10,
     "metadata": {},
     "output_type": "execute_result"
    }
   ],
   "source": [
    "(eta * 8 * w * F / pi / tlim) ** 0.5"
   ]
  },
  {
   "cell_type": "code",
   "execution_count": 14,
   "id": "1e9b013c-92bf-43e0-8fb2-a48b4d53950b",
   "metadata": {},
   "outputs": [
    {
     "name": "stdout",
     "output_type": "stream",
     "text": [
      "27.5 192.5\n"
     ]
    }
   ],
   "source": [
    "d = 27.5\n",
    "D = d * w\n",
    "print(d, D)"
   ]
  },
  {
   "cell_type": "code",
   "execution_count": 28,
   "id": "0a42558c-adf6-456c-a150-7205a229a99f",
   "metadata": {},
   "outputs": [
    {
     "name": "stdout",
     "output_type": "stream",
     "text": [
      "R = 158 N/mm\n"
     ]
    }
   ],
   "source": [
    "R = G * d ** 4 / 8 / n / D ** 3\n",
    "print(f\"R = {R:.0f} N/mm\")"
   ]
  },
  {
   "cell_type": "code",
   "execution_count": 34,
   "id": "5afb83ad-0c62-4f45-96ba-4ab44f633ead",
   "metadata": {},
   "outputs": [],
   "source": [
    "Sa = 0.1 * (1 + 0.015*w**2) * d * n"
   ]
  },
  {
   "cell_type": "code",
   "execution_count": 38,
   "id": "1cfe202f-0c23-4f2a-9b4a-35b6fdb061d3",
   "metadata": {},
   "outputs": [],
   "source": [
    "nt = n + 2\n",
    "Lc = nt * d\n",
    "Ln = Lc + Sa\n",
    "L0 = Ln + F / R"
   ]
  },
  {
   "cell_type": "code",
   "execution_count": 42,
   "id": "a668a15f-7cc5-460d-b133-a283112c85a8",
   "metadata": {},
   "outputs": [
    {
     "data": {
      "text/plain": [
       "(343, 216, 192, 24)"
      ]
     },
     "execution_count": 42,
     "metadata": {},
     "output_type": "execute_result"
    }
   ],
   "source": [
    "round(L0), round(Ln), round(Lc), round(Sa)"
   ]
  },
  {
   "cell_type": "code",
   "execution_count": 43,
   "id": "6958dbbe-eb09-4121-8381-9e47551b7adf",
   "metadata": {},
   "outputs": [],
   "source": [
    "p = (L0 - 2*d) / n"
   ]
  },
  {
   "cell_type": "code",
   "execution_count": 49,
   "id": "72a367ef-eb49-43b0-a0e1-dd2dd68a17da",
   "metadata": {},
   "outputs": [
    {
     "data": {
      "text/plain": [
       "5.434379749144616"
      ]
     },
     "execution_count": 49,
     "metadata": {},
     "output_type": "execute_result"
    }
   ],
   "source": [
    "degrees(atan(p / pi / D))"
   ]
  },
  {
   "cell_type": "code",
   "execution_count": null,
   "id": "7be8b6fe-19b3-48bd-a693-98dc94b9b1c6",
   "metadata": {},
   "outputs": [],
   "source": []
  }
 ],
 "metadata": {
  "kernelspec": {
   "display_name": "BigData_310",
   "language": "python",
   "name": "bigdata_310"
  },
  "language_info": {
   "codemirror_mode": {
    "name": "ipython",
    "version": 3
   },
   "file_extension": ".py",
   "mimetype": "text/x-python",
   "name": "python",
   "nbconvert_exporter": "python",
   "pygments_lexer": "ipython3",
   "version": "3.10.1"
  }
 },
 "nbformat": 4,
 "nbformat_minor": 5
}
