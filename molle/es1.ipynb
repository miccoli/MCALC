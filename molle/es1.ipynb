{
 "cells": [
  {
   "cell_type": "markdown",
   "id": "8973d2ab-0c6a-4217-9824-3e36ec6b90d6",
   "metadata": {
    "tags": []
   },
   "source": [
    "# Molle — Esercizio 1\n",
    "\n",
    "Una molla ad elica cilindrica, con rapporto d'avvolgimento $w = D/d = 7$ è sottoposta ad una forza assiale massima di compressione $F = 20\\,\\mathrm{kN}$.\n",
    "\n",
    "1. Determinare il diametro del tondino d in modo da avere un coefficiente di sicurezza rispetto allo snervamento $\\eta = 1.5$\n",
    "1. Calcolare la rigidezza della molla ipotizzando un numero di spire attive $n = 5$\n",
    "\n",
    "Materiale 60SiCr8:\n",
    "\n",
    "- $R_\\mathrm{m} = 1450 \\, \\mathrm{MPa}$ \n",
    "- $R_\\mathrm{p0.2} = 1250 \\, \\mathrm{MPa}$"
   ]
  },
  {
   "cell_type": "markdown",
   "id": "19f3c28d-53a2-4351-bd5e-4eb326b95e25",
   "metadata": {
    "tags": []
   },
   "source": [
    "# Svolgimento"
   ]
  },
  {
   "cell_type": "code",
   "execution_count": 1,
   "id": "401add92-f70a-48ef-80d8-70117e7142fe",
   "metadata": {},
   "outputs": [],
   "source": [
    "from math import atan, degrees, pi"
   ]
  },
  {
   "cell_type": "markdown",
   "id": "7966bd42-bed6-49cc-b3e6-3c4f9d85ca21",
   "metadata": {
    "tags": []
   },
   "source": [
    "## Punto 1\n",
    "\n",
    "Riportiamo i dati"
   ]
  },
  {
   "cell_type": "code",
   "execution_count": 2,
   "id": "8599c5b6-c864-4b5e-b4f9-52c104fdfa82",
   "metadata": {},
   "outputs": [],
   "source": [
    "w = 7\n",
    "eta = 1.5\n",
    "rp02 = 1250  # (MPa)\n",
    "F = 20e3  # (N)\n",
    "n = 5"
   ]
  },
  {
   "cell_type": "markdown",
   "id": "d649f380-99d6-443e-8e59-6bd504541eb9",
   "metadata": {},
   "source": [
    "Il valore di $E$ non è fornito; poniamo $E = 206\\,000 \\: \\mathrm{MPa}$ e $G = \\frac{E}{2(1+\\nu)}$ con $\\nu=0.3$\n",
    "\n",
    "Poniamo inoltre $\\tau_\\mathrm{lim} = \\tau_\\mathrm{sn} = \\frac1{\\sqrt 3}R_\\mathrm{p0.2}$"
   ]
  },
  {
   "cell_type": "code",
   "execution_count": 3,
   "id": "fd13a9ea-f1ea-4618-878e-188d9eded5c9",
   "metadata": {},
   "outputs": [
    {
     "name": "stdout",
     "output_type": "stream",
     "text": [
      "E = 206000 MPa\n",
      "G =  79231 MPa\n",
      "𝜏sn = 722 MPa\n"
     ]
    }
   ],
   "source": [
    "E = 206000  # (MPa)\n",
    "G = E / 2 / (1 + 0.3)\n",
    "tlim = rp02 / 3 ** 0.5\n",
    "print(f\"E = {E} MPa\")\n",
    "print(f\"G = {G:6.0f} MPa\")\n",
    "print(f\"𝜏sn = {tlim:.0f} MPa\")"
   ]
  },
  {
   "cell_type": "markdown",
   "id": "21d62eb5-9276-4228-b69a-d1955af379ce",
   "metadata": {},
   "source": [
    "Da \n",
    "\\begin{equation}\n",
    "\\frac{8\\,D\\,F}{\\pi\\,d^3} = \\frac{8\\,w\\,F}{\\pi\\,d^2} \\leq \\frac{\\tau_\\mathrm{lim}}{\\eta}\n",
    "\\end{equation}\n",
    "si ricava\n",
    "\\begin{equation}\n",
    "d \\geq \\underbrace{\\sqrt{\\eta \\frac{8 \\,w\\,F}{\\pi\\, \\tau_\\mathrm{lim} }}}_{d_{\\min}}\n",
    "\\end{equation}"
   ]
  },
  {
   "cell_type": "code",
   "execution_count": 4,
   "id": "9c92ad36-5053-4861-ba6d-e5d214a76e2a",
   "metadata": {},
   "outputs": [
    {
     "name": "stdout",
     "output_type": "stream",
     "text": [
      "d_min = 27.22 mm\n"
     ]
    }
   ],
   "source": [
    "dmin = (eta * 8 * w * F / pi / tlim) ** 0.5\n",
    "print(f\"d_min = {dmin:.2f} mm\")"
   ]
  },
  {
   "cell_type": "markdown",
   "id": "5ca810b4-b357-49d3-b88d-fa1de49925df",
   "metadata": {},
   "source": [
    "Si sceglie perciò $d=27.5 \\: \\mathrm{mm}$ da cui seguono i seguenti parametri:"
   ]
  },
  {
   "cell_type": "code",
   "execution_count": 5,
   "id": "1e9b013c-92bf-43e0-8fb2-a48b4d53950b",
   "metadata": {},
   "outputs": [
    {
     "name": "stdout",
     "output_type": "stream",
     "text": [
      "d   =  27.5 mm\n",
      "D   = 192.5 mm\n",
      "D_i = 165.0 mm\n",
      "D_e = 220.0 mm\n"
     ]
    }
   ],
   "source": [
    "d = 27.5\n",
    "D = d * w\n",
    "print(f\"d   = {d:5} mm\")\n",
    "print(f\"D   = {D:5} mm\")\n",
    "print(f\"D_i = {D-d:5} mm\")\n",
    "print(f\"D_e = {D+d:5} mm\")"
   ]
  },
  {
   "cell_type": "markdown",
   "id": "5ef8fb89-ccc3-45be-8310-c241c8da6e54",
   "metadata": {
    "tags": []
   },
   "source": [
    "## Punto 2\n",
    "\n",
    "È immediato calcolare la rigidezza dalla formula\n",
    "\\begin{equation}\n",
    "R = \\frac{G\\, d^4}{8\\,n\\,D^3}\n",
    "\\end{equation}"
   ]
  },
  {
   "cell_type": "code",
   "execution_count": 6,
   "id": "0a42558c-adf6-456c-a150-7205a229a99f",
   "metadata": {},
   "outputs": [
    {
     "name": "stdout",
     "output_type": "stream",
     "text": [
      "R = 159 N/mm\n"
     ]
    }
   ],
   "source": [
    "R = G * d ** 4 / 8 / n / D ** 3\n",
    "print(f\"R = {R:.0f} N/mm\")"
   ]
  },
  {
   "cell_type": "markdown",
   "id": "4ccebe80-b704-4462-b0b4-1a5b178f632d",
   "metadata": {},
   "source": [
    "## Considerazioni conclusive"
   ]
  },
  {
   "cell_type": "markdown",
   "id": "5395afc3-f521-4185-8b4e-f686e922790b",
   "metadata": {},
   "source": [
    "L'esercizio proposto è puramente numerico, ma è comunque utile fare qualche considerazione pratica.\n",
    "\n",
    "Indicativamente è possibile avvolgere a freddo molle con filo fino ad un diametro $d = 10 \\, \\mathrm{mm}$.\n",
    "Il dimensionamento ha portato ad un diametro maggiore: la molla deve perciò essere avvolta a caldo con seguente trattamento termico.\n",
    "Alla luce di ciò sarebbe meglio rivedere il materiale e la $\\tau_\\mathrm{lim}$.\n",
    "Tuttavia, vista la natura puramente didattica dell'esercizio questo passaggio non è svolto"
   ]
  },
  {
   "cell_type": "markdown",
   "id": "6de80280-ffbc-4176-b9f2-5d760c109fc3",
   "metadata": {},
   "source": [
    "### Lunghezze\n",
    "\n",
    "Anche se non richiesto dall'esercizio è comunque utile procedere al dimensionamento della lunghezza libera della molla $L_0$.\n",
    "\n",
    "Per prima cosa determiniamo, secondo normativa EN 13906, la somma degli spazi interspira minimi al carico massimo per una molla formata a caldo:\n",
    "\\begin{equation}\n",
    "S_\\mathrm{a} = 0.02 \\, n \\, (D + d) = 0.02 \\, (1 + w)\\, n \\, d\n",
    "\\end{equation}"
   ]
  },
  {
   "cell_type": "code",
   "execution_count": 7,
   "id": "5afb83ad-0c62-4f45-96ba-4ab44f633ead",
   "metadata": {},
   "outputs": [
    {
     "name": "stdout",
     "output_type": "stream",
     "text": [
      "22.0 mm\n"
     ]
    }
   ],
   "source": [
    "Sa = 0.02 * (1 + w) * d * n\n",
    "print(f\"{Sa} mm\")"
   ]
  },
  {
   "cell_type": "markdown",
   "id": "414df0ae-7986-4fb7-ae91-1f829be69ac8",
   "metadata": {},
   "source": [
    "Da questa grandezza si può calcolare la lunghezza della molla sotto il carico massimo come\n",
    "\\begin{equation}\n",
    "    L_\\mathrm{n} =L_\\mathrm{c} + S_\\mathrm{a}\n",
    "\\end{equation}\n",
    "Per stimare la freccia a pacco $L_\\mathrm{c}$ bisogna per prima cosa definire il tipo di terminale e il numero totale delle spire $n_\\mathrm{t}$.\n",
    "\n",
    "Nel ipotesi di terminali chiusi e molati (sicuramente consigliabili per una molla di queste dimensioni e carico) si può assumere indicativamente $n_\\mathrm{t} = n + 2$ e $L_\\mathrm{c} = n_\\mathrm{t}\\,d$.\n",
    "\n",
    "La lunghezza $L_0$ può essere infine calcolata ricordando che\n",
    "\\begin{equation}\n",
    "L_0 = L_\\mathrm{n} + s_\\mathrm{n} = L_\\mathrm{n} + \\frac{F}{R}\n",
    "\\end{equation}"
   ]
  },
  {
   "cell_type": "code",
   "execution_count": 8,
   "id": "1cfe202f-0c23-4f2a-9b4a-35b6fdb061d3",
   "metadata": {},
   "outputs": [
    {
     "name": "stdout",
     "output_type": "stream",
     "text": [
      "n_t = 7\n",
      "Lc = 192.5\n",
      "Ln = 214.5\n",
      "L0 = 340.4\n"
     ]
    }
   ],
   "source": [
    "nt = n + 2\n",
    "Lc = nt * d\n",
    "Ln = Lc + Sa\n",
    "L0 = Ln + F / R\n",
    "print(f\"n_t = {nt}\")\n",
    "print(f\"Lc = {Lc}\")\n",
    "print(f\"Ln = {Ln}\")\n",
    "print(f\"L0 = {L0:.1f}\")"
   ]
  },
  {
   "cell_type": "markdown",
   "id": "84926309-eae0-4cb9-b72e-ba4e9a67297f",
   "metadata": {},
   "source": [
    "Il passo $p$ può essere calcolato a partire da $L_0 = np + 2d$"
   ]
  },
  {
   "cell_type": "code",
   "execution_count": 9,
   "id": "6958dbbe-eb09-4121-8381-9e47551b7adf",
   "metadata": {},
   "outputs": [
    {
     "name": "stdout",
     "output_type": "stream",
     "text": [
      "p = 57.09\n"
     ]
    }
   ],
   "source": [
    "p = (L0 - 2 * d) / n\n",
    "print(f\"p = {p:.2f}\")"
   ]
  },
  {
   "cell_type": "markdown",
   "id": "16c4c053-1a7f-44d5-a7bc-b57f69e1e200",
   "metadata": {},
   "source": [
    "Di nuovo approssimiamo verso l'alto ponendo $p=57.5\\,\\mathrm{mm}$, e ricalcoliamo le varie lunghezze. ($L_\\mathrm{c}$ non cambia)"
   ]
  },
  {
   "cell_type": "code",
   "execution_count": 10,
   "id": "8474aa57-38cc-44cc-9efe-63dba4ca71bb",
   "metadata": {},
   "outputs": [
    {
     "name": "stdout",
     "output_type": "stream",
     "text": [
      "p = 57.5 mm\n",
      "L0 = 342.5 mm\n",
      "Ln = 216.6 mm\n"
     ]
    }
   ],
   "source": [
    "p = 57.5\n",
    "L0 = n * p + 2 * d\n",
    "Ln = L0 - F / R\n",
    "print(f\"p = {p} mm\")\n",
    "print(f\"L0 = {L0} mm\")\n",
    "print(f\"Ln = {Ln:.1f} mm\")"
   ]
  },
  {
   "cell_type": "markdown",
   "id": "43ea7aac-8220-417f-b19e-5a0e4eed3332",
   "metadata": {},
   "source": [
    "Ultima verifica è calcolare l'angolo d'elica da $p = \\pi \\, D \\cdot \\tan\\alpha$:"
   ]
  },
  {
   "cell_type": "code",
   "execution_count": 11,
   "id": "72a367ef-eb49-43b0-a0e1-dd2dd68a17da",
   "metadata": {},
   "outputs": [
    {
     "name": "stdout",
     "output_type": "stream",
     "text": [
      "𝛼 = 0.095 rad = 5.4°\n"
     ]
    }
   ],
   "source": [
    "alpha = atan(p / pi / D)\n",
    "print(f\"𝛼 = {alpha:.3f} rad = {degrees(alpha):.1f}°\")"
   ]
  },
  {
   "cell_type": "markdown",
   "id": "44aee40b-ed2d-45ce-96f9-516cb9da8beb",
   "metadata": {},
   "source": [
    "Si ha $\\alpha < 0.15 \\: \\mathrm{rad}$ e quindi è corretto trascurare l'angolo di inclinazione dell'elica."
   ]
  }
 ],
 "metadata": {
  "kernelspec": {
   "display_name": "BigData_310",
   "language": "python",
   "name": "bigdata_310"
  },
  "language_info": {
   "codemirror_mode": {
    "name": "ipython",
    "version": 3
   },
   "file_extension": ".py",
   "mimetype": "text/x-python",
   "name": "python",
   "nbconvert_exporter": "python",
   "pygments_lexer": "ipython3",
   "version": "3.10.1"
  }
 },
 "nbformat": 4,
 "nbformat_minor": 5
}
